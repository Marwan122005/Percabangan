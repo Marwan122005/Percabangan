{
 "cells": [
  {
   "cell_type": "markdown",
   "id": "ded17ee6",
   "metadata": {},
   "source": [
    "Percabangan"
   ]
  },
  {
   "cell_type": "code",
   "execution_count": 1,
   "id": "81c797e1",
   "metadata": {},
   "outputs": [
    {
     "name": "stdout",
     "output_type": "stream",
     "text": [
      "Isikan Nilai:9\n",
      "9 adalah bilangan ganjil\n",
      "program selesai\n"
     ]
    }
   ],
   "source": [
    "#Menentukan ganjil genap\n",
    "nilai = int(input('Isikan Nilai:'))\n",
    "sisa_bagi = nilai % 2\n",
    "\n",
    "if sisa_bagi==0:\n",
    "    print(f'{nilai} adalah bilangan genap')\n",
    "else:\n",
    "    print(f'{nilai} adalah bilangan ganjil')\n",
    "    \n",
    "print('program selesai')"
   ]
  },
  {
   "cell_type": "code",
   "execution_count": null,
   "id": "31b919ab",
   "metadata": {},
   "outputs": [],
   "source": []
  },
  {
   "cell_type": "code",
   "execution_count": 5,
   "id": "e314a830",
   "metadata": {},
   "outputs": [
    {
     "name": "stdout",
     "output_type": "stream",
     "text": [
      "Isikan Nilai Pemrogaman:10\n",
      "E\n"
     ]
    }
   ],
   "source": [
    "# 0 - 49 => E\n",
    "# 50 - 59 => D\n",
    "# 60 - 69 => c\n",
    "# 70 - 84 => B\n",
    "# 85 - 100 => A\n",
    "\n",
    "nilai_program = int(input('Isikan Nilai Pemrogaman:'))\n",
    "if nilai_program < 0 or nilai_program > 100:\n",
    "    print (\"Nilai Anda Salah\")\n",
    "else:\n",
    "    if nilai_program <50:\n",
    "        print(\"E\")\n",
    "    elif nilai_program <60:\n",
    "        print(\"D\")\n",
    "    elif nilai_program <70:\n",
    "        print(\"C\")\n",
    "    elif nilai_program <85:\n",
    "        print(\"B\")\n",
    "    elif nilai_program <=100:\n",
    "        print(\"A\")\n",
    "\n",
    "    "
   ]
  },
  {
   "cell_type": "code",
   "execution_count": 7,
   "id": "a06b8af4",
   "metadata": {},
   "outputs": [
    {
     "name": "stdout",
     "output_type": "stream",
     "text": [
      "Isikan Username10\n",
      "Isikan Password20\n",
      "Username dan Password anda salah\n"
     ]
    }
   ],
   "source": [
    "username = input('Isikan Username')\n",
    "password = input('Isikan Password')\n",
    "\n",
    "# Jika username salah => Username anda Salah\n",
    "# Jika password salah => Password anda Salah\n",
    "# Jika Keduanya salah => username dan Password anda Salah\n",
    "# Jika Keduanya benar => Selamat datang (username)\n",
    "# username : admin\n",
    "# password : admin\n",
    "\n",
    "if username == 'admin':\n",
    "    if password== 'admin':\n",
    "        print (f'Selamat datang {username}')\n",
    "    else:\n",
    "        print(F'password anda salah')\n",
    "        \n",
    "else:\n",
    "    if password == 'admin':\n",
    "        print ('Username anda Salah')\n",
    "    else:\n",
    "        print(\"Username dan Password anda salah\")\n",
    "        \n",
    "    "
   ]
  },
  {
   "cell_type": "code",
   "execution_count": 28,
   "id": "c0b71efa",
   "metadata": {},
   "outputs": [
    {
     "name": "stdout",
     "output_type": "stream",
     "text": [
      "Isikan Namaff\n",
      "Isikan Umur45\n",
      "Isikan AlamatNevada\n",
      "Isikan Uang Tabungan15000\n",
      "ff kemungkinan seorang anggota mafia dengan pangkat Don\n"
     ]
    }
   ],
   "source": [
    "nama = input('Isikan Nama')\n",
    "umur = int(input('Isikan Umur'))\n",
    "alamat = input('Isikan Alamat')\n",
    "tabungan = int(input('Isikan Uang Tabungan'))\n",
    "\n",
    "pangkat =''\n",
    "if umur > 40:\n",
    "    if alamat == 'New York' or alamat =='Nevada' or alamat =='Havana':\n",
    "        if tabungan > 10000:\n",
    "            pangkat = 'Don'\n",
    "elif 25 <= umur <= 40:\n",
    "    if alamat == 'New Jersey' or alamat =='Manhattan' or alamat =='Nevada':\n",
    "        if tabungan >= 1000 and tabungan <= 2000:\n",
    "            pangkat = 'Underboss'\n",
    "elif 18 <= umur <= 24:\n",
    "    if alamat == 'California' or alamat =='Detroit' or alamat =='Boston':\n",
    "        if tabungan < 1000:\n",
    "            pangkat = 'Capo'\n",
    "\n",
    "if pangkat!='':\n",
    "    print(f'{nama} kemungkinan seorang anggota mafia dengan pangkat {pangkat}')\n",
    "else:\n",
    "    print(f'{nama} tidak mencuringakan')\n",
    "    \n"
   ]
  }
 ],
 "metadata": {
  "kernelspec": {
   "display_name": "Python 3 (ipykernel)",
   "language": "python",
   "name": "python3"
  },
  "language_info": {
   "codemirror_mode": {
    "name": "ipython",
    "version": 3
   },
   "file_extension": ".py",
   "mimetype": "text/x-python",
   "name": "python",
   "nbconvert_exporter": "python",
   "pygments_lexer": "ipython3",
   "version": "3.9.12"
  }
 },
 "nbformat": 4,
 "nbformat_minor": 5
}
